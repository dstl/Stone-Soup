{
  "cells": [
    {
      "cell_type": "code",
      "execution_count": null,
      "metadata": {
        "collapsed": false
      },
      "outputs": [],
      "source": [
        "%matplotlib inline"
      ]
    },
    {
      "cell_type": "markdown",
      "metadata": {},
      "source": [
        "\nMatlab Wrapper Example\n======================\nThis example looks at how the :class:`~.MatlabWrapper` class can be used to call MATLAB functions\nin Stone Soup.\n\nMore specifically, we will show how to write a :class:`~.MatlabKalmanPredictor` class that\nmakes use of a custom MATLAB function to perform the prediction and compare its output to the\nstandard :class:`~.KalmanPredictor`.\n"
      ]
    },
    {
      "cell_type": "markdown",
      "metadata": {},
      "source": [
        "Writing the MATLAB script\n-------------------------\nBelow we show the MATLAB script :download:`kf_predict.m <../../examples/kf_predict.m>` used to\nperform a standard Kalman Filter prediction step.\n\n.. literalinclude:: ../../examples/kf_predict.m\n   :language: matlab\n\n"
      ]
    },
    {
      "cell_type": "markdown",
      "metadata": {},
      "source": [
        "Defining the MATLAB Kalman predictor\n------------------------------------\nNow that we have written our MATLAB function, we can proceed to define our custom Kalman\npredictor class.\n\nSince we want our custom Stone Soup object to interface with MATLAB we need to subclass the\n:class:`~.MatlabWrapper`, so that our class inherits all the attributes and methods necessary to\ninterface with the `MATLAB Engine API for Python <https://uk.mathworks.com/help/matlab/matlab-engine-for-python.html>`__.\n\nWe also subclass the :class:`~.KalmanPredictor`. This is mostly done for convenience, since it\nmeans that our class can inherit all the attributes and methods defined therein. As such, we only\nneed to override the ``predict()`` method so that it makes use of our MATLAB function, instead of\nperforming the computations in Python.\n\n"
      ]
    },
    {
      "cell_type": "code",
      "execution_count": null,
      "metadata": {
        "collapsed": false
      },
      "outputs": [],
      "source": [
        "import numpy as np\nfrom functools import lru_cache\n\nfrom stonesoup.predictor.kalman import KalmanPredictor\nfrom stonesoup.types.prediction import GaussianStatePrediction\nfrom stonesoup.wrapper.matlab import MatlabWrapper\n\n\nclass MatlabKalmanPredictor(KalmanPredictor, MatlabWrapper):\n    \"\"\"A standard Kalman predictor using MATLAB functions to prove that you can. \"\"\"\n\n    @lru_cache()\n    def predict(self, prior, control_input=None, timestamp=None, **kwargs):\n\n        # Get the prediction interval\n        predict_over_interval = self._predict_over_interval(prior, timestamp)\n\n        # Transition model parameters\n        transition_matrix = self._transition_matrix(\n            prior=prior, time_interval=predict_over_interval, **kwargs)\n        transition_covar = self.transition_model.covar(\n            time_interval=predict_over_interval, **kwargs)\n\n        # Control model parameters\n        control_matrix = self._control_matrix\n        control_noise = self.control_model.control_noise\n        control_input = control_input if control_input is not None else self.control_model.control_input()\n\n        # Create MATLAB compatible arrays\n        x = self.matlab_array(prior.state_vector)\n        P = self.matlab_array(prior.covar)\n        F = self.matlab_array(transition_matrix)\n        Q = self.matlab_array(transition_covar)\n        B = self.matlab_array(control_matrix)\n        u = self.matlab_array(control_input)\n        Qu = self.matlab_array(control_noise)\n\n        # Call the custom kf_predict MATLAB function\n        pred_mean, pred_covar = self.matlab_engine.kf_predict(x, P, F, Q, u, B, Qu, nargout=2)\n\n        return GaussianStatePrediction(np.array(pred_mean), np.array(pred_covar), timestamp)"
      ]
    },
    {
      "cell_type": "markdown",
      "metadata": {},
      "source": [
        "Using the MATLAB Kalman predictor\n---------------------------------\nWe now proceed to make use of the predictor we have defined.\n\n"
      ]
    },
    {
      "cell_type": "markdown",
      "metadata": {},
      "source": [
        "Initialise prior state and transition model\n~~~~~~~~~~~~~~~~~~~~~~~~~~~~~~~~~~~~~~~~~~~\nLet us assume we have a target moving with nearly constant velocity in 2D. Therefore, our state\n$\\mathrm{x}_k$ is of the following following form:\n\n\\begin{align}\\mathrm{x}_k = [x_k, \\dot{x}_k, y_k, \\dot{y}_k]\\end{align}\n\nwhere $x_k, y_k$ denote the 2D positional coordinates and $\\dot{x}_k, \\dot{y}_k$\ndenote the respective velocity on each dimension.\n\n"
      ]
    },
    {
      "cell_type": "code",
      "execution_count": null,
      "metadata": {
        "collapsed": false
      },
      "outputs": [],
      "source": [
        "from datetime import datetime, timedelta\nfrom stonesoup.types.state import GaussianState\nfrom stonesoup.models.transition.linear import (CombinedLinearGaussianTransitionModel,\n                                                ConstantVelocity)\n\n# Define prior state\ntimestamp_init = datetime.now()\nprior = GaussianState(state_vector=[[0.], [1.], [0.], [1.]],\n                      covar=np.diag([1.5, 0.5, 1.5, 0.5]),\n                      timestamp=timestamp_init)\n\n# Initialise a transition model\ntransition_model = CombinedLinearGaussianTransitionModel(\n    [ConstantVelocity(noise_diff_coeff=0.1), ConstantVelocity(noise_diff_coeff=0.1)])"
      ]
    },
    {
      "cell_type": "markdown",
      "metadata": {},
      "source": [
        "Initialise our predictors\n~~~~~~~~~~~~~~~~~~~~~~~~~\nLet's now proceed to create our custom predictor object. As is standard with Stone Soup\npredictors, we need to provide our predictor with a ``transition_model``. In addition, the\n``dir_path`` argument specifies a directory to be added to the `MATLAB search path <https://uk.mathworks.com/help/matlab/search-path.html>`__\nwhich contains the downloaded ``kf_predict.m`` script.\n\n"
      ]
    },
    {
      "cell_type": "code",
      "execution_count": null,
      "metadata": {
        "collapsed": false
      },
      "outputs": [],
      "source": [
        "dir_path = '../'  # Change this to the directory where the kf_predict.m script is stored\nmatlab_predictor = MatlabKalmanPredictor(transition_model=transition_model, dir_path=dir_path)"
      ]
    },
    {
      "cell_type": "markdown",
      "metadata": {},
      "source": [
        "We also create a standard :class:`~.KalmanPredictor` object.\n\n"
      ]
    },
    {
      "cell_type": "code",
      "execution_count": null,
      "metadata": {
        "collapsed": false
      },
      "outputs": [],
      "source": [
        "standard_predictor = KalmanPredictor(transition_model)"
      ]
    },
    {
      "cell_type": "markdown",
      "metadata": {},
      "source": [
        "Perform prediction\n~~~~~~~~~~~~~~~~~~\nFinally, we proceed to perform a prediction step using both predictors and print-out the time\ntaken by each object to complete the operation.\n\n"
      ]
    },
    {
      "cell_type": "code",
      "execution_count": null,
      "metadata": {
        "collapsed": false
      },
      "outputs": [],
      "source": [
        "# Assume we are predicting 2 seconds in the future\ntimestamp_pred = timestamp_init + timedelta(seconds=2)\n\n# Matlab predictor\nmatlab_prediction = matlab_predictor.predict(prior, timestamp=timestamp_pred)\n\n# Standard predictor\nstandard_prediction = standard_predictor.predict(prior, timestamp=timestamp_pred)"
      ]
    },
    {
      "cell_type": "markdown",
      "metadata": {},
      "source": [
        "Compare the results\n~~~~~~~~~~~~~~~~~~~\nThe lines below are used to assert that the two predictors generate equivalent results.\n\n"
      ]
    },
    {
      "cell_type": "code",
      "execution_count": null,
      "metadata": {
        "collapsed": false
      },
      "outputs": [],
      "source": [
        "assert(np.array_equal(standard_prediction.mean, matlab_prediction.mean))\nassert(np.array_equal(standard_prediction.covar, matlab_prediction.covar))"
      ]
    },
    {
      "cell_type": "markdown",
      "metadata": {},
      "source": [
        "Plot the output\n~~~~~~~~~~~~~~~\n\n"
      ]
    },
    {
      "cell_type": "code",
      "execution_count": null,
      "metadata": {
        "collapsed": false
      },
      "outputs": [],
      "source": [
        "from matplotlib import pyplot as plt\nfrom matplotlib.patches import Ellipse\n\n\ndef plot_state(state, ax, color, label=None):\n    mean = state.mean\n    cov = state.covar\n    w, v = np.linalg.eig(cov[[0, 2], :][:, [0, 2]])\n    max_ind = np.argmax(w)\n    min_ind = np.argmin(w)\n    orient = np.arctan2(v[1, max_ind], v[0, max_ind])\n    ellipse = Ellipse(xy=(mean[0], mean[2]),\n                          width=2 * np.sqrt(w[max_ind]), height=2 * np.sqrt(w[min_ind]),\n                          angle=np.rad2deg(orient),\n                          alpha=0.4,\n                          color=color)\n    ax.add_artist(ellipse)\n    ax.plot(mean[0], mean[2], '.', color=color, label=label)\n\n\nfig, ax = plt.subplots()\nax.set_ylim(-2, 5)\nax.set_xlim(-2, 5)\n\nplot_state(prior, ax, 'r', 'Prior')\nplot_state(matlab_prediction, ax, 'b', 'Prediction')\nax.legend()"
      ]
    }
  ],
  "metadata": {
    "kernelspec": {
      "display_name": "Python 3",
      "language": "python",
      "name": "python3"
    },
    "language_info": {
      "codemirror_mode": {
        "name": "ipython",
        "version": 3
      },
      "file_extension": ".py",
      "mimetype": "text/x-python",
      "name": "python",
      "nbconvert_exporter": "python",
      "pygments_lexer": "ipython3",
      "version": "3.7.5"
    }
  },
  "nbformat": 4,
  "nbformat_minor": 0
}