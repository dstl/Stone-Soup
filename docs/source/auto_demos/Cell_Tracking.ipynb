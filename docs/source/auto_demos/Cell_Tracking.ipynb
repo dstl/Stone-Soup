{
  "cells": [
    {
      "cell_type": "markdown",
      "metadata": {},
      "source": [
        "\n# Tracking cell data from intracellular infection assays\n"
      ]
    },
    {
      "cell_type": "markdown",
      "metadata": {},
      "source": [
        "## Introduction\nTracking cellular movement within biological imagery is a complex task. In\nthis demo we are using Stone Soup to track cells in confocal transmitted light\nimagery. Utilising tracking to be able to analyse single cell data over time\nfrom frame based population data increases the utility of the data set. It\nallows for the characteristics of individual cells to be monitored throughout\nthe time course, providing an additional dimension to the data set for\nanalyses. This demo shows how Stone Soup can be utilised for tracking of the\ncells. A number of packages in Python are available to generate morphological\nmetrics from the segmented datasets.\n\nIn this notebook we will load a csv file containing segmented cell data and metadata, to use as\ndetections in the Stone Soup tracker. We will build the tracker and use the Optuna framework to \noptimise the tracker over a number of parameters. We will display the track output in a video.\n\n"
      ]
    },
    {
      "cell_type": "markdown",
      "metadata": {},
      "source": [
        "## Software Dependencies\nA number of installations are required for this demonstration.\n\n### Cellpose\nCellpose is a deep learning-based algorithm for segmentation of cells and nuclei. There is also a\nhuman-in-the-loop option for training the model (v2.0). Cellpose is used to produce the csv of\nsegmented cell data used by the tracker. Installation instructions can be found\n[here](https://github.com/MouseLand/cellpose/blob/main/README.md/#Installation)_.\n\n### Optuna\nOptuna is a hyperparameter optimisation software. It can be used to explore the parameter space\nand find the optimal combination of parameters based on pre-defined metrics. Optuna is framework\nagnostic, so is easy to implement on any algorithm framework. Further details, including \ninstallation instructions, can be found\n[here](https://optuna.readthedocs.io/en/stable/index.html)_.\n\n"
      ]
    },
    {
      "cell_type": "markdown",
      "metadata": {},
      "source": [
        "## Data\nIn this demo cell time lapse imagery was captured using confocal microscope time lapse imaging,\nusing a Zeiss LSM 710 microscope. This produced proprietary .czi files for analysis. A number of\nprocessing steps were performed before tracking algorithms were implemented. These steps are as\nfollows:\n\n1. Unpack the .czi file into individual frames and image channels (Brightfield and fluorescence) using the aicspylibczi library. \n2. Segment the images using Cellpose. To optimise this a range of different parameters were applied to a random set of the frames and these were visualised to select the best Cellpose parameters.\n3. Use best Cellpose parameters to segment all images within a time lapse experiment.\n4. From this the segmentations were used to derive population statistics using the sci-imaging library. \n5. The centroid_X and centroid_Y values of the bounding box for each cells were used in Stone Soup as the location of each individual cell.\n\nIt is important to note that the extraction of time lapse frames will differ depending on the\nconfocal imaging approach used. However, any microscope and segmentation approach could be\nutilised as long as within the end result you have the centroid_X and centroid_Y value to then\ninput into the Stone Soup tracking algorithms.  \n\n"
      ]
    },
    {
      "cell_type": "code",
      "execution_count": null,
      "metadata": {
        "collapsed": false
      },
      "outputs": [],
      "source": [
        "# set the csv filename to track\ncsvfile = 'filtered_cell_stats_Assay 3.csv'\n# set the relevant position to track in\nposition = 0\n# set the time range (in units of frames)\ntMin = 15    #inclusive\ntMax = 45   #inclusive\n\ncsv_subset = f'{csvfile[0:len(csvfile)-4]}_p{position}_t{tMin}-{tMax}_pre-track.csv'"
      ]
    },
    {
      "cell_type": "markdown",
      "metadata": {},
      "source": [
        "The resulting data can be visualised in the video below, where the white lines show the outlines\nof the segmented cells.\n\n.. raw:: html\n\n    <video autoplay loop controls>\n      <source src=\"../_static/cell_demo_0.mp4\" type=\"video/mp4\">\n    </video>\n\n\n"
      ]
    },
    {
      "cell_type": "markdown",
      "metadata": {},
      "source": [
        "## Tracking Algorithm\n\n"
      ]
    },
    {
      "cell_type": "code",
      "execution_count": null,
      "metadata": {
        "collapsed": false
      },
      "outputs": [],
      "source": [
        "import numpy as np\nfrom stonesoup.reader.generic import CSVDetectionReader\nfrom stonesoup.models.transition.linear import (\n    CombinedLinearGaussianTransitionModel, RandomWalk, ConstantVelocity)\nfrom stonesoup.models.measurement.linear import LinearGaussian\nfrom stonesoup.predictor.kalman import KalmanPredictor\nfrom stonesoup.updater.kalman import KalmanUpdater\nfrom stonesoup.hypothesiser.distance import DistanceHypothesiser\nfrom stonesoup.measures import Mahalanobis\nfrom stonesoup.dataassociator.neighbour import GNNWith2DAssignment\nfrom stonesoup.deleter.time import UpdateTimeStepsDeleter\nfrom stonesoup.initiator.simple import MultiMeasurementInitiator\nfrom stonesoup.types.state import GaussianState\nfrom stonesoup.tracker.simple import MultiTargetTracker\nfrom stonesoup.types.update import Update"
      ]
    },
    {
      "cell_type": "markdown",
      "metadata": {},
      "source": [
        "We will set up the tracking algorithm to use cell position (x and y coordinates), median\nintensity (a measure of the extent to which the infection has spread in the cell) and cell area\nas the state vector fields. Initially, we estimate the associated parameters (change in the state\nvector fields and error in those change values) based on prior knowledge of reasonable cell\nbehaviour. The initiator's minimum number of points and the deleter's number of points are also\nestimated.\n\n"
      ]
    },
    {
      "cell_type": "code",
      "execution_count": null,
      "metadata": {
        "collapsed": false
      },
      "outputs": [],
      "source": [
        "dele = 5\ninit = 4\nchange_pos = 5 \nchange_area = 100\nchange_intensity = 2\nerror_pos = 4\nerror_area = 300\nerror_intensity = 5"
      ]
    },
    {
      "cell_type": "markdown",
      "metadata": {},
      "source": [
        "Using these estimated parameters, we run the algorithm.\n\n- **Detector** - Since the segmented cell data is in a simple CSV format :class:`~.CSVDetectionReader` is used to make the detector. The column names of the state vector fields are included as a list, and the column name of the time field is also specified.\n- **Transition Model** - A :class:`~.CombinedLinearGaussianTransitionModel` is used. The position, split into x and y coordinates, and area are assumed to change according to a :class:'~.RandomWalk`. The intensity, or spread of infection within the cells, is assumed to change with :class:`~.ConstantVelocity`.\n- **Measurement Model** - A :class:`~.LinearGaussian` measurement model is used. The state vector has five dimensions - one each for the x position, y position and area and two for the intensity.\n- **Predictor and Updater** - The tracker is made using a Kalman filter, with the :class:`~.KalmanPredictor` and :class:`~.KalmanUpdater` classes being used for the predictor and updater respectively.\n- **Hypothesiser** - The :class:`~.DistanceHypothesiser` is used to generate the hypothesis pairs of detections and predicted measurements. This uses the :class:`~.Mahalanobis` distance as the measure of the quality of these pairs. \n- **Data Associator** - The Global Nearest Neighbour algorithm is used as the data associator to pick the best hypothesis pair.\n- **Deleter** - An :class:`~.UpdateTimeStepsDeleter` is used to delete tracks that have not been seen in the last 5 frames.\n- **Initiator** - A :class:`~.MultiMeasurementInitiator` is used to add tracks that have been seen in the last 4 frames. Within this there is a deleter set to 3, so the potential tracks are deleted if they are not seen in the last 3 frames.\n\n"
      ]
    },
    {
      "cell_type": "code",
      "execution_count": null,
      "metadata": {
        "collapsed": false
      },
      "outputs": [],
      "source": [
        "detector = CSVDetectionReader(f'{csv_subset}',\n                              state_vector_fields=(\"centroid_X\", \"centroid_Y\", \"median_intensity\", \"area\"),\n                              time_field=\"Timepoint\",\n                              timestamp=True)\n\ntransition_model = CombinedLinearGaussianTransitionModel((RandomWalk(change_pos), RandomWalk(change_pos),\n                                                          ConstantVelocity(change_intensity),\n                                                          RandomWalk(change_area)))\n\nmeasurement_model = LinearGaussian(ndim_state=5,\n                                   mapping=[0, 1, 2, 4],\n                                   noise_covar=np.diag([error_pos**2, error_pos**2,\n                                                        error_intensity**2, error_area**2]))\n\npredictor = KalmanPredictor(transition_model)\n\nupdater = KalmanUpdater(measurement_model)\n\nmeasure = Mahalanobis(mapping=[0, 1, 2, 3])\n\nhypothesiser = DistanceHypothesiser(predictor,\n                                    updater,\n                                    measure,\n                                    missed_distance=2)\n\ndata_associator = GNNWith2DAssignment(hypothesiser)\n\ndeleter = UpdateTimeStepsDeleter(dele,\n                                 delete_last_pred=True)\n\ninitiator = MultiMeasurementInitiator(GaussianState(np.array([[0], [0], [0], [.5], [0]]),\n                                                    np.diag([15**2, 15**2, 15**2, 20**2, 100**2])),\n                                      min_points=init,\n                                      deleter=UpdateTimeStepsDeleter(3, delete_last_pred=True),\n                                      measurement_model=measurement_model,\n                                      data_associator=data_associator,\n                                      updater=updater)\n\ntracker = MultiTargetTracker(initiator=initiator,\n                             deleter=deleter,\n                             detector=detector,\n                             data_associator=data_associator,\n                             updater=updater,)"
      ]
    },
    {
      "cell_type": "markdown",
      "metadata": {},
      "source": [
        "Run the tracker\n\n"
      ]
    },
    {
      "cell_type": "code",
      "execution_count": null,
      "metadata": {
        "collapsed": false
      },
      "outputs": [],
      "source": [
        "# initialize variables\ntracks = set()\ndetections = set()\n\n# go through each frame\nfor step, (time, current_tracks) in enumerate(tracker, 1):\n    # update track list\n    tracks.update(current_tracks)\n    \n    # update list of detected cells\n    detections.update(tracker.detector.detections)\n    \n    # detections that are part of a track\n    tracked_detections = {track.hypothesis.measurement for track in current_tracks if isinstance(track.state,Update)}\n    \n    # total detections\n    current_detections = tracker.detector.detections"
      ]
    },
    {
      "cell_type": "markdown",
      "metadata": {},
      "source": [
        "Below is a video showing the resulting tracks, where the yellow outlines show the tracked cells and\nthe white outlines show the cells that have been segmented but are not in tracks.\n\n.. raw:: html\n\n    <video autoplay loop controls>\n      <source src=\"../_static/cell_demo_1.mp4\" type=\"video/mp4\">\n    </video>\n\n\n"
      ]
    },
    {
      "cell_type": "markdown",
      "metadata": {},
      "source": [
        "## Optimizer\nNext, we implement the Optuna optimizer on the Stone Soup algorithm. To do this, we first have to\ndefine an objective function. This is done through the following steps:\n\n1) Set the parameters to vary the values of. In this example all of the the parameters being changed are integers so the suggest_int function is used. The numbers passed in as arguments of the function are the minimum and maximum values that the parameter can take (inclusive).\n2) Run the algorithm. This is done as above, running through each frame to generate the tracks.\n3) Define metric(s) for optimisation. These are meant to be representative of the quality of the tracks, such that maximising or minimising these metrics will improve the tracking algorithm. The objective function returns the metric(s) defined for optimisation. In this case, these are the number of long tracks, defined as the number of tracks spanning at least 90% of the frames, and the total number of tracks. These are standardised to account for the difference in size of the two values, so that the multi-objective optimisation isn't weighted towards the metric that is the larger value (total number of tracks). Single-objective optimisation is also possible in Optuna, and indeed is the more widely used optimisation method. However, as there is no group truth for this problem, multi-objective optimisation was preferred in this case.\n\nWhile only integer values are changed in this demonstration, Optuna\ncan also be used to vary a range of other types of variables. See [here](https://optuna.readthedocs.io/en/stable/reference/generated/optuna.trial.Trial.html)_\nfor more information.\n\nAlso, it is important to note that the default optimisation approach that Optuna uses is Bayesian\noptimisation, which works by randomly selecting the parameters for the first n trials (where n is\ntypically around 50) and then subsequently uses these values to determine which area of the\nparameter space is best to explore. In this demo, the number of trials is kept low (20) to reduce\nrun time, but for best results a higher number of trials should be used (e.g. >100).\n\n"
      ]
    },
    {
      "cell_type": "code",
      "execution_count": null,
      "metadata": {
        "collapsed": false
      },
      "outputs": [],
      "source": [
        "import optuna\n\ndef objective(trial):\n    \n    # 1) set parameters to change:\n    dele = trial.suggest_int('dele', 4, 11)\n    init = trial.suggest_int('init', 4, 11)\n    change_pos = trial.suggest_int('change_pos', 4, 15) #how much position is expected to change between frames\n    change_area = trial.suggest_int('change_area', 75, 175) #how much the area is expected to change\n    change_intensity = trial.suggest_int('change_intensity', 2, 10) #how much the intensity is expected to change\n    error_pos = trial.suggest_int('error_pos', 3, 8) #possible error in change_pos\n    error_area = trial.suggest_int('error_area', 200, 400) #possible error in change_area\n    error_intensity = trial.suggest_int('error_intensity', 4, 10) #possible error in change_intensity\n    \n    # 2) run algorithm:\n    detector = CSVDetectionReader(f'{csv_subset}',\n                                  state_vector_fields=(\"centroid_X\", \"centroid_Y\", \"median_intensity\", \"area\"),\n                                  time_field=\"Timepoint\",\n                                  timestamp=True)\n\n    transition_model = CombinedLinearGaussianTransitionModel((RandomWalk(change_pos), RandomWalk(change_pos),\n                                                              ConstantVelocity(change_intensity),\n                                                              RandomWalk(change_area)))\n\n    measurement_model = LinearGaussian(ndim_state=5,\n                                       mapping=[0, 1, 2, 4],\n                                       noise_covar=np.diag([error_pos**2, error_pos**2,\n                                                            error_intensity**2, error_area**2]))\n\n    predictor = KalmanPredictor(transition_model)\n\n    updater = KalmanUpdater(measurement_model)\n\n    measure = Mahalanobis(mapping=[0, 1, 2, 3])\n\n    hypothesiser = DistanceHypothesiser(predictor,\n                                        updater,\n                                        measure,\n                                        missed_distance=2)\n\n    data_associator = GNNWith2DAssignment(hypothesiser)\n\n    deleter = UpdateTimeStepsDeleter(dele,\n                                     delete_last_pred=True)\n\n    initiator = MultiMeasurementInitiator(GaussianState(np.array([[0], [0], [0], [.5], [0]]),\n                                                        np.diag([15**2, 15**2, 15**2, 20**2, 100**2])),\n                                          min_points=init,\n                                          deleter=UpdateTimeStepsDeleter(3, delete_last_pred=True),\n                                          measurement_model=measurement_model,\n                                          data_associator=data_associator,\n                                          updater=updater)\n\n    tracker = MultiTargetTracker(initiator=initiator,\n                                 deleter=deleter,\n                                 detector=detector,\n                                 data_associator=data_associator,\n                                 updater=updater)\n\n    # initialize variables\n    tracks = set()\n\n    # go through each frame\n    for step, (time, current_tracks) in enumerate(tracker, 1):\n        # update track list\n        tracks.update(current_tracks)\n\n    # 3) define metrics for optimisation\n    track_lengths = np.array([len(track) for track in tracks])\n    \n    long_tracks = np.array(track_lengths > (0.9*(tMax - tMin))).sum() / 60\n    total_tracks = np.array(track_lengths > 0).sum() / 2500\n    \n    return long_tracks, total_tracks"
      ]
    },
    {
      "cell_type": "markdown",
      "metadata": {},
      "source": [
        "Once the objective function has been defined, a study can be created. The directions argument\nspecifies whether the metrics being outputted by the objective function should be maximized or\nminimized. Also, in optimizing the study n_trials must be specified, which is the number of\ntrials to be run in the study. Each trial is a full run of the tracking algorithm using\nparameters selected within the ranges given. \n\n"
      ]
    },
    {
      "cell_type": "code",
      "execution_count": null,
      "metadata": {
        "collapsed": false
      },
      "outputs": [],
      "source": [
        "study = optuna.create_study(directions=['maximize', 'minimize'])\nstudy.optimize(objective, n_trials=20)"
      ]
    },
    {
      "cell_type": "markdown",
      "metadata": {},
      "source": [
        "The results of the study can then be visualised though the use of the graphing functions built in\nto Optuna. The Pareto-front plot function can be used when you are optimising over two metrics.\nThis plots each trial in the study as a function of the two metrics we were optimising over:\nnumber of long tracks and total number of tracks. Since we are trying to minimise the total\nnumber of tracks (y axis) and maximise the number of long tracks (x axis), the trials in the\nbottom right of the graph can be assumed to be the trials with the best parameter set-ups.\n\n"
      ]
    },
    {
      "cell_type": "code",
      "execution_count": null,
      "metadata": {
        "collapsed": false
      },
      "outputs": [],
      "source": [
        "plot = optuna.visualization.plot_pareto_front(study, target_names=['Number of Long Tracks (>90% Frames)',\n                                                                   'Total Number of Tracks'])\nplot.update_layout(showlegend=False)\nplot"
      ]
    },
    {
      "cell_type": "markdown",
      "metadata": {},
      "source": [
        "Another plotting function within the Optuna package is the contour plot. This can be plotted for\nany of the optimization parameters (as set by the 'target_name' argument), and shows the\nrelationships between pairs of hyperparameters we are optimizing over. We can either plot a grid\ncontaining all of the pairs of hyperparameters being optimized, or select a subset of\nhyperparameters by including the 'params' argument.\n\nIn the contour plot below the interactions between the initiator number, deleter number and\npositional error are plotted with respect to the long tracks optimization metric (number of\ntracks spanning at least 90% of frames). The light areas show the hyperparameter combinations\nthat result in a greater number of long tracks, so we can see that higher values for the\ninitiator number, deleter number and positional error term are all associated with more long\ntracks.\n\nThe second contour plot below shows the same hyperparameters but in this case they are plotted\nwith respect to the total tracks optimization metric.\n\n"
      ]
    },
    {
      "cell_type": "code",
      "execution_count": null,
      "metadata": {
        "collapsed": false
      },
      "outputs": [],
      "source": [
        "from optuna.visualization import plot_contour\n\nplot_contour(study, target=lambda t: t.values[0], target_name='long tracks', params=['init', 'dele', 'error_pos'])"
      ]
    },
    {
      "cell_type": "code",
      "execution_count": null,
      "metadata": {
        "collapsed": false
      },
      "outputs": [],
      "source": [
        "plot_contour(study, target=lambda t: t.values[1], target_name='total tracks', params=['init', 'dele', 'error_pos'])"
      ]
    },
    {
      "cell_type": "markdown",
      "metadata": {},
      "source": [
        "We can also plot the hyperparameter importances, as shown below. This gives the importance of\neach of the hyperparameters that we set to vary in our study to the metrics we optimize over. The\nimportance is given as a fraction of the change in the metric that the given hyperparameter is\nresponsible for (i.e., a hyperparameter importance of 1 indicates that any change to the metric\nis a result of changes to that hyperparameter only).\n\nThe hyperparameter importance plot for the long tracks metric indicates that the errors in the\nstate vector fields have the biggest impact on determining the number of long tracks produced by\nan algorithm, with the positional error being the most important. The hyperparameter importance\nplot for the total tracks metric shows that the minimum number of frames required for a track to\ninitiate has by far the biggest impact on the total number of tracks.\n\n"
      ]
    },
    {
      "cell_type": "code",
      "execution_count": null,
      "metadata": {
        "collapsed": false
      },
      "outputs": [],
      "source": [
        "from optuna.visualization import plot_param_importances\n\nplot_param_importances(study, target=lambda t: t.values[0], target_name='long tracks')"
      ]
    },
    {
      "cell_type": "code",
      "execution_count": null,
      "metadata": {
        "collapsed": false
      },
      "outputs": [],
      "source": [
        "plot_param_importances(study, target=lambda t: t.values[1], target_name='total_tracks')"
      ]
    },
    {
      "cell_type": "markdown",
      "metadata": {},
      "source": [
        "Below is a video showing the tracks using the set-up that was determined to be optimum (the\nfurthest right point seen on the Pareto-front plot). The yellow outlines denote the cells included\nin tracks, while the white outlines show the cells that have been segmented but not included in\ntracks.\n\n.. raw:: html\n\n    <video autoplay loop controls>\n      <source src=\"../_static/cell_demo_2.mp4\" type=\"video/mp4\">\n    </video>\n\n\n"
      ]
    }
  ],
  "metadata": {
    "kernelspec": {
      "display_name": "Python 3",
      "language": "python",
      "name": "python3"
    },
    "language_info": {
      "codemirror_mode": {
        "name": "ipython",
        "version": 3
      },
      "file_extension": ".py",
      "mimetype": "text/x-python",
      "name": "python",
      "nbconvert_exporter": "python",
      "pygments_lexer": "ipython3",
      "version": "3.12.3"
    }
  },
  "nbformat": 4,
  "nbformat_minor": 0
}