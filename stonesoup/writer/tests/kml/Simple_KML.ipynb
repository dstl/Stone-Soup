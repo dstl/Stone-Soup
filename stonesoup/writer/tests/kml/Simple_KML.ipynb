{
 "metadata": {
  "name": "",
  "signature": "sha256:fdfb1db051e144913f645e809f48142ee22ee3d7172d294031dcf9fe8b7add42"
 },
 "nbformat": 3,
 "nbformat_minor": 0,
 "worksheets": [
  {
   "cells": [
    {
     "cell_type": "code",
     "collapsed": false,
     "input": [
      "from simplekml import Kml\n",
      "\n",
      "kml = Kml()\n",
      "doc = kml.document\n",
      "doc.name = \"Stone Soup Output\""
     ],
     "language": "python",
     "metadata": {},
     "outputs": [],
     "prompt_number": 1
    },
    {
     "cell_type": "code",
     "collapsed": false,
     "input": [
      "tks_fldr =  doc.newfolder(name=\"All Tracks\")"
     ],
     "language": "python",
     "metadata": {},
     "outputs": [],
     "prompt_number": 2
    },
    {
     "cell_type": "code",
     "collapsed": false,
     "input": [
      "print(kml.kml())"
     ],
     "language": "python",
     "metadata": {},
     "outputs": [
      {
       "output_type": "stream",
       "stream": "stdout",
       "text": [
        "<?xml version=\"1.0\" encoding=\"UTF-8\"?>\n",
        "<kml xmlns=\"http://www.opengis.net/kml/2.2\" xmlns:gx=\"http://www.google.com/kml/ext/2.2\">\n",
        "    <Document id=\"1\">\n",
        "        <name>Stone Soup Output</name>\n",
        "        <Folder id=\"2\">\n",
        "            <name>All Tracks</name>\n",
        "        </Folder>\n",
        "    </Document>\n",
        "</kml>\n",
        "\n"
       ]
      }
     ],
     "prompt_number": 3
    },
    {
     "cell_type": "code",
     "collapsed": false,
     "input": [
      "tks_point = tks_fldr.newpoint()\n",
      "tks_point.timestamp.when = \"2018-12-20T12:00:00Z\"\n",
      "#print(kml.kml())"
     ],
     "language": "python",
     "metadata": {},
     "outputs": [],
     "prompt_number": 3
    },
    {
     "cell_type": "code",
     "collapsed": false,
     "input": [
      "tks_point.extrude = 0\n",
      "#tks_point.placemark.styleurl = \"#test\"\n",
      "print(kml.kml())"
     ],
     "language": "python",
     "metadata": {},
     "outputs": [
      {
       "output_type": "stream",
       "stream": "stdout",
       "text": [
        "<?xml version=\"1.0\" encoding=\"UTF-8\"?>\n",
        "<kml xmlns=\"http://www.opengis.net/kml/2.2\" xmlns:gx=\"http://www.google.com/kml/ext/2.2\">\n",
        "    <Document id=\"1\">\n",
        "        <name>Stone Soup Output</name>\n",
        "        <Folder id=\"2\">\n",
        "            <name>All Tracks</name>\n",
        "            <Placemark id=\"4\">\n",
        "                <TimeStamp id=\"5\">\n",
        "                    <when>2018-12-20T12:00:00Z</when>\n",
        "                </TimeStamp>\n",
        "                <Point id=\"3\">\n",
        "                    <coordinates>0.0, 0.0, 0.0</coordinates>\n",
        "                    <extrude>0</extrude>\n",
        "                </Point>\n",
        "            </Placemark>\n",
        "        </Folder>\n",
        "    </Document>\n",
        "</kml>\n",
        "\n"
       ]
      }
     ],
     "prompt_number": 4
    },
    {
     "cell_type": "code",
     "collapsed": false,
     "input": [
      "tks_point.stylemap.highlightstyle.iconstyle.scale = \"1.2\"\n",
      "tks_point.stylemap.highlightstyle.iconstyle.icon.href = \"http://earth.google.com/images/kml-icons/track-directional/track-none.png\"\n",
      "tks_point.stylemap.highlightstyle.iconstyle.color = \"#ff080000\"\n",
      "tks_point.stylemap.normalstyle.iconstyle.icon.href =\"http://earth.google.com/images/kml-icons/track-directional/track-none.png\"\n",
      "tks_point.stylemap.normalstyle.iconstyle.color = \"#ff080000\"\n",
      "tks_point.stylemap.normalstyle.iconstyle.scale = \"0.5\"\n",
      "tks_point.style.linestyle"
     ],
     "language": "python",
     "metadata": {},
     "outputs": [
      {
       "output_type": "stream",
       "stream": "stdout",
       "text": [
        "<?xml version=\"1.0\" encoding=\"UTF-8\"?>\n",
        "<kml xmlns=\"http://www.opengis.net/kml/2.2\" xmlns:gx=\"http://www.google.com/kml/ext/2.2\">\n",
        "    <Document id=\"1\">\n",
        "        <name>Stone Soup Output</name>\n",
        "        <Folder id=\"2\">\n",
        "            <Style id=\"10\">\n",
        "                <IconStyle id=\"11\">\n",
        "                    <color>#ff080000</color>\n",
        "                    <colorMode>normal</colorMode>\n",
        "                    <scale>0.5</scale>\n",
        "                    <heading>0</heading>\n",
        "                    <Icon id=\"12\">\n",
        "                        <href>http://earth.google.com/images/kml-icons/track-directional/track-none.png</href>\n",
        "                    </Icon>\n",
        "                </IconStyle>\n",
        "            </Style>\n",
        "            <Style id=\"7\">\n",
        "                <IconStyle id=\"8\">\n",
        "                    <color>#ff080000</color>\n",
        "                    <colorMode>normal</colorMode>\n",
        "                    <scale>1.2</scale>\n",
        "                    <heading>0</heading>\n",
        "                    <Icon id=\"9\">\n",
        "                        <href>http://earth.google.com/images/kml-icons/track-directional/track-none.png</href>\n",
        "                    </Icon>\n",
        "                </IconStyle>\n",
        "            </Style>\n",
        "            <StyleMap id=\"6\">\n",
        "                <Pair>\n",
        "                    <key>normal</key>\n",
        "                    <styleUrl>#10</styleUrl>\n",
        "                </Pair>\n",
        "                <Pair>\n",
        "                    <key>highlight</key>\n",
        "                    <styleUrl>#7</styleUrl>\n",
        "                </Pair>\n",
        "            </StyleMap>\n",
        "            <name>All Tracks</name>\n",
        "            <Placemark id=\"4\">\n",
        "                <TimeStamp id=\"5\">\n",
        "                    <when>2018-12-20T12:00:00Z</when>\n",
        "                </TimeStamp>\n",
        "                <styleUrl>#6</styleUrl>\n",
        "                <Point id=\"3\">\n",
        "                    <coordinates>0.0, 0.0, 0.0</coordinates>\n",
        "                    <extrude>0</extrude>\n",
        "                </Point>\n",
        "            </Placemark>\n",
        "        </Folder>\n",
        "    </Document>\n",
        "</kml>\n",
        "\n"
       ]
      }
     ],
     "prompt_number": 5
    },
    {
     "cell_type": "code",
     "collapsed": false,
     "input": [
      "kml."
     ],
     "language": "python",
     "metadata": {},
     "outputs": [],
     "prompt_number": 6
    },
    {
     "cell_type": "code",
     "collapsed": false,
     "input": [],
     "language": "python",
     "metadata": {},
     "outputs": []
    }
   ],
   "metadata": {}
  }
 ]
}